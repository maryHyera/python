{
 "cells": [
  {
   "cell_type": "code",
   "execution_count": 3,
   "metadata": {},
   "outputs": [
    {
     "name": "stdout",
     "output_type": "stream",
     "text": [
      "abbeydson\n"
     ]
    }
   ],
   "source": [
    "name = \"abbeydson\"\n",
    "\n",
    "print(name)"
   ]
  },
  {
   "cell_type": "code",
   "execution_count": 22,
   "metadata": {},
   "outputs": [
    {
     "name": "stdout",
     "output_type": "stream",
     "text": [
      "hello world\n"
     ]
    }
   ],
   "source": [
    "a = \"hello\"\n",
    "b = \"world\"\n",
    "\n",
    "print(a, b)"
   ]
  },
  {
   "cell_type": "code",
   "execution_count": 5,
   "metadata": {},
   "outputs": [
    {
     "name": "stdout",
     "output_type": "stream",
     "text": [
      "[1, 3, 3, 5, 8, 2, 2, 9, 4]\n",
      "The fourth element is 5\n"
     ]
    }
   ],
   "source": [
    "#list\n",
    "\n",
    "num = [1, 3, 3, 5, 8, 2, 2, 9, 4]\n",
    "\n",
    "print(num)\n",
    "\n",
    "print(f\"The fourth element is {num[3]}\")"
   ]
  },
  {
   "cell_type": "code",
   "execution_count": 6,
   "metadata": {},
   "outputs": [
    {
     "name": "stdout",
     "output_type": "stream",
     "text": [
      "{0, 1, 2, 3, 9}\n"
     ]
    }
   ],
   "source": [
    " #set\n",
    "\n",
    "num = {1, 3, 2, 2, 0, 9}\n",
    "\n",
    "print(num)\n",
    "    "
   ]
  },
  {
   "cell_type": "code",
   "execution_count": 7,
   "metadata": {},
   "outputs": [
    {
     "name": "stdout",
     "output_type": "stream",
     "text": [
      "(1, 3, 3, 5, 8, 2, 2, 9, 4)\n"
     ]
    }
   ],
   "source": [
    "#tuple\n",
    "\n",
    "num = (1, 3, 3, 5, 8, 2, 2, 9, 4)\n",
    "\n",
    "print(num)"
   ]
  },
  {
   "cell_type": "code",
   "execution_count": 8,
   "metadata": {},
   "outputs": [
    {
     "name": "stdout",
     "output_type": "stream",
     "text": [
      "{1: 'one', 2: 'two', 3: 'three', 4: 'four'}\n",
      "1\n",
      "2\n",
      "3\n",
      "4\n",
      "one two three four "
     ]
    }
   ],
   "source": [
    "#dictionary\n",
    "\n",
    "num = {1: 'one', 2: 'two', 3: 'three', 4: 'four'}\n",
    "\n",
    "print(num)\n",
    "\n",
    "for key in num.keys():\n",
    "    print(key)\n",
    "    \n",
    "for value in num.values():\n",
    "    print(value, end=\" \")"
   ]
  },
  {
   "cell_type": "code",
   "execution_count": 9,
   "metadata": {},
   "outputs": [
    {
     "name": "stdout",
     "output_type": "stream",
     "text": [
      "5\n",
      "4\n",
      "3\n",
      "2\n",
      "1\n"
     ]
    }
   ],
   "source": [
    "n = 5\n",
    "\n",
    "while n > 0:\n",
    "    print(n)\n",
    "    n = n - 1"
   ]
  },
  {
   "cell_type": "code",
   "execution_count": 10,
   "metadata": {},
   "outputs": [
    {
     "name": "stdout",
     "output_type": "stream",
     "text": [
      "This is the child function\n",
      "This is the parent function\n"
     ]
    }
   ],
   "source": [
    "#classes\n",
    "\n",
    "class Parent_class():\n",
    "    def parent_function(self):\n",
    "        print(\"This is the parent function\")\n",
    "        \n",
    "        \n",
    "class Child_class():\n",
    "    def child_function(self):\n",
    "        print(\"This is the child function\")\n",
    "        \n",
    "        \n",
    "ob = Child_class()\n",
    "ob.child_function()\n",
    "\n",
    "ob = Parent_class()\n",
    "ob.parent_function()\n",
    "            "
   ]
  },
  {
   "cell_type": "code",
   "execution_count": 11,
   "metadata": {},
   "outputs": [],
   "source": [
    "def add_two_numbers(a, b):\n",
    "    return (a + b)"
   ]
  },
  {
   "cell_type": "code",
   "execution_count": 12,
   "metadata": {},
   "outputs": [],
   "source": [
    "addition = add_two_numbers(1, 5)"
   ]
  },
  {
   "cell_type": "code",
   "execution_count": 13,
   "metadata": {},
   "outputs": [
    {
     "name": "stdout",
     "output_type": "stream",
     "text": [
      "addition of two numbers is 6\n"
     ]
    }
   ],
   "source": [
    "print(f\"addition of two numbers is {addition}\")"
   ]
  },
  {
   "cell_type": "code",
   "execution_count": 20,
   "metadata": {},
   "outputs": [],
   "source": [
    "def reverse_string(string):\n",
    "    reversed_str = \"\"\n",
    "    for i in range(0, len(string)):\n",
    "        m = len(string) - 1\n",
    "        reversed_str += string[m - i]\n",
    "    return reversed_str"
   ]
  },
  {
   "cell_type": "code",
   "execution_count": 21,
   "metadata": {},
   "outputs": [],
   "source": [
    "string = reverse_string(\"hello world\")"
   ]
  },
  {
   "cell_type": "code",
   "execution_count": null,
   "metadata": {},
   "outputs": [],
   "source": [
    "hobbies = [\"swimming\", \"reading\", \"dancing\", \"playing\"]\n",
    "\n",
    "for hobby in hobbies:\n",
    "    print(hobby, end=\" \")"
   ]
  },
  {
   "cell_type": "code",
   "execution_count": null,
   "metadata": {},
   "outputs": [],
   "source": [
    "??print"
   ]
  },
  {
   "cell_type": "code",
   "execution_count": null,
   "metadata": {},
   "outputs": [],
   "source": [
    "rev_string = reverse_string(\"hello world\")\n",
    "print(rev_string)"
   ]
  },
  {
   "cell_type": "code",
   "execution_count": null,
   "metadata": {},
   "outputs": [],
   "source": [
    "def fizz_buzz(number_list):\n",
    "    for number in number_list:\n",
    "        if number%3 == 0 and number%5 == 0:\n",
    "            print(\"FIZZ BUZZ\")\n",
    "        elif number%3 == 0:\n",
    "            print(\"FIZZ\")\n",
    "        elif number%5 == 0:\n",
    "            print(\"BUZZ\")\n",
    "        else:\n",
    "            print(\"neither FIZZ or BUZZ\")\n",
    "            \n",
    "list = [1, 3, 5, 15]\n",
    "fizz_buzz(list)"
   ]
  },
  {
   "cell_type": "code",
   "execution_count": null,
   "metadata": {},
   "outputs": [],
   "source": [
    "def sum_of_mult(list_num):\n",
    "    sum = 0\n",
    "    for i in list_num:\n",
    "        if i%3 == 0 or i%5 == 0:\n",
    "            sum += i\n",
    "    return sum\n",
    "\n",
    "list = range(1, 1000)\n",
    "sum_num = sum_of_mult(list)\n",
    "\n",
    "print(sum_num)\n",
    "        "
   ]
  },
  {
   "cell_type": "code",
   "execution_count": null,
   "metadata": {},
   "outputs": [],
   "source": [
    "    \n",
    "def fibonnacci():\n",
    "    first_num = 1\n",
    "    second_num = 2\n",
    "    sum = 0\n",
    "    \n",
    "    while second_num <= 100:\n",
    "        if second_num%2 == 0:\n",
    "            sum += second_num\n",
    "            first_num = second_num\n",
    "            third_num = sum\n",
    "            second_num = third_num\n",
    "    \n",
    "    return sum\n",
    "    \n",
    "\n",
    "fibonnacci()\n",
    "    "
   ]
  },
  {
   "cell_type": "code",
   "execution_count": null,
   "metadata": {},
   "outputs": [],
   "source": [
    "#sum of even numbers in a fibonnacci series\n",
    "\n",
    "def prime_factor(num):\n",
    "    for i in range(2, num):\n",
    "        if num%i == 0:\n",
    "            print(i)\n",
    "            \n",
    "num = 13195\n",
    "prime_factor(num)\n",
    "    \n",
    "\n",
    "\n",
    "\n"
   ]
  },
  {
   "cell_type": "code",
   "execution_count": null,
   "metadata": {},
   "outputs": [],
   "source": []
  },
  {
   "cell_type": "code",
   "execution_count": null,
   "metadata": {},
   "outputs": [],
   "source": [
    "print(a, b)"
   ]
  },
  {
   "cell_type": "code",
   "execution_count": null,
   "metadata": {},
   "outputs": [],
   "source": [
    "a = \"trainee\"\n",
    "b = \"student\""
   ]
  }
 ],
 "metadata": {
  "kernelspec": {
   "display_name": "Python 3",
   "language": "python",
   "name": "python3"
  },
  "language_info": {
   "codemirror_mode": {
    "name": "ipython",
    "version": 3
   },
   "file_extension": ".py",
   "mimetype": "text/x-python",
   "name": "python",
   "nbconvert_exporter": "python",
   "pygments_lexer": "ipython3",
   "version": "3.7.3"
  }
 },
 "nbformat": 4,
 "nbformat_minor": 4
}
