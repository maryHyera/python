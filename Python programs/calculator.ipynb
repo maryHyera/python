{
 "cells": [
  {
   "cell_type": "code",
   "execution_count": 11,
   "metadata": {},
   "outputs": [
    {
     "data": {
      "text/plain": [
       "1.7321653012752722"
      ]
     },
     "execution_count": 11,
     "metadata": {},
     "output_type": "execute_result"
    }
   ],
   "source": [
    "import math\n",
    "\n",
    "\n",
    "#addition function\n",
    "def addition(a,b):\n",
    "    return a + b\n",
    "\n",
    "#substraction function\n",
    "def substraction(a,b):\n",
    "    return a - b\n",
    "\n",
    "#multiplication function\n",
    "def multiplication(a,b):\n",
    "    return a * b\n",
    "\n",
    "#divition function\n",
    "def divition(a,b):\n",
    "    return a / b\n",
    "\n",
    "#power of a number\n",
    "def power(a,b):\n",
    "    return a**b\n",
    "\n",
    "#sine of a degree\n",
    "def sin(a):\n",
    "    b=(a/180)*(3.141592654)    #converting degree into radian\n",
    "    c=b-((b**3)/math.factorial(3)) + ((b**5)/math.factorial(5)) - ((b**7)/math.factorial(7))\n",
    "    return c\n",
    "\n",
    "#cosine of a degree\n",
    "def cos(a):\n",
    "    if a==90: return 0\n",
    "    b=(a/180)*(3.141592654)   #converting degree into radian\n",
    "    c=1-((b**2)/math.factorial(2)) + ((b**4)/math.factorial(4)) - ((b**6)/math.factorial(6))\n",
    "    return c\n",
    "\n",
    "#tanget of a degree\n",
    "def tan(a):\n",
    "    return sin(a) / cos(a)\n",
    "\n",
    "#hyperbolic sine \n",
    "def sinh(a):\n",
    "    e=2.718281828\n",
    "    return ((e**(a)) - (e**(-a)))/2\n",
    "\n",
    "#hyperbolic cosine\n",
    "def cosh(a):\n",
    "    e=2.718281828\n",
    "    return ((e**(a)) + (e**(-a)))/2\n",
    "                         \n",
    "#hyperbolic tangent\n",
    "\n",
    "   \n",
    "tan(60)"
   ]
  },
  {
   "cell_type": "code",
   "execution_count": null,
   "metadata": {},
   "outputs": [],
   "source": []
  }
 ],
 "metadata": {
  "kernelspec": {
   "display_name": "Python 3",
   "language": "python",
   "name": "python3"
  },
  "language_info": {
   "codemirror_mode": {
    "name": "ipython",
    "version": 3
   },
   "file_extension": ".py",
   "mimetype": "text/x-python",
   "name": "python",
   "nbconvert_exporter": "python",
   "pygments_lexer": "ipython3",
   "version": "3.7.0"
  }
 },
 "nbformat": 4,
 "nbformat_minor": 2
}
